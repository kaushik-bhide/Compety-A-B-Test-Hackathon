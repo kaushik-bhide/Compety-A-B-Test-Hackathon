{
 "cells": [
  {
   "cell_type": "markdown",
   "id": "24476547",
   "metadata": {},
   "source": [
    "## 1. Reading the dataset"
   ]
  },
  {
   "cell_type": "code",
   "execution_count": 45,
   "id": "e8049364",
   "metadata": {},
   "outputs": [],
   "source": [
    "#https://pandas.pydata.org/docs/reference/api/pandas.read_csv.html\n",
    "import pandas as pd\n",
    "import warnings\n",
    "# Ignore all warnings globally\n",
    "warnings.filterwarnings(\"ignore\")\n",
    "\n",
    "\n",
    "data = pd.read_csv('DATASET.csv')"
   ]
  },
  {
   "cell_type": "code",
   "execution_count": 46,
   "id": "40c4341b",
   "metadata": {},
   "outputs": [
    {
     "data": {
      "text/html": [
       "<div>\n",
       "<style scoped>\n",
       "    .dataframe tbody tr th:only-of-type {\n",
       "        vertical-align: middle;\n",
       "    }\n",
       "\n",
       "    .dataframe tbody tr th {\n",
       "        vertical-align: top;\n",
       "    }\n",
       "\n",
       "    .dataframe thead th {\n",
       "        text-align: right;\n",
       "    }\n",
       "</style>\n",
       "<table border=\"1\" class=\"dataframe\">\n",
       "  <thead>\n",
       "    <tr style=\"text-align: right;\">\n",
       "      <th></th>\n",
       "      <th>event_id</th>\n",
       "      <th>session_id</th>\n",
       "      <th>user_id</th>\n",
       "      <th>variation</th>\n",
       "      <th>platform</th>\n",
       "      <th>datetime_event</th>\n",
       "      <th>event_type</th>\n",
       "      <th>final_order_status</th>\n",
       "      <th>shop_id</th>\n",
       "    </tr>\n",
       "  </thead>\n",
       "  <tbody>\n",
       "    <tr>\n",
       "      <th>0</th>\n",
       "      <td>63527610</td>\n",
       "      <td>6391574</td>\n",
       "      <td>762832</td>\n",
       "      <td>2</td>\n",
       "      <td>Android</td>\n",
       "      <td>2024-11-30 16:23:46.391133804</td>\n",
       "      <td>entry_to_shop</td>\n",
       "      <td>successful</td>\n",
       "      <td>8531.0</td>\n",
       "    </tr>\n",
       "    <tr>\n",
       "      <th>1</th>\n",
       "      <td>12446736</td>\n",
       "      <td>6391574</td>\n",
       "      <td>762832</td>\n",
       "      <td>2</td>\n",
       "      <td>Android</td>\n",
       "      <td>2024-11-30 16:26:16.875713965</td>\n",
       "      <td>order_paid</td>\n",
       "      <td>successful</td>\n",
       "      <td>8531.0</td>\n",
       "    </tr>\n",
       "    <tr>\n",
       "      <th>2</th>\n",
       "      <td>90232698</td>\n",
       "      <td>6391574</td>\n",
       "      <td>762832</td>\n",
       "      <td>2</td>\n",
       "      <td>Android</td>\n",
       "      <td>2024-11-30 16:50:44.827088753</td>\n",
       "      <td>order_finished</td>\n",
       "      <td>successful</td>\n",
       "      <td>8531.0</td>\n",
       "    </tr>\n",
       "    <tr>\n",
       "      <th>3</th>\n",
       "      <td>74183469</td>\n",
       "      <td>9246026</td>\n",
       "      <td>762832</td>\n",
       "      <td>2</td>\n",
       "      <td>Android</td>\n",
       "      <td>2024-11-29 13:21:28.729203894</td>\n",
       "      <td>reload_the_page</td>\n",
       "      <td>NaN</td>\n",
       "      <td>6186.0</td>\n",
       "    </tr>\n",
       "    <tr>\n",
       "      <th>4</th>\n",
       "      <td>16360628</td>\n",
       "      <td>9246026</td>\n",
       "      <td>762832</td>\n",
       "      <td>2</td>\n",
       "      <td>Android</td>\n",
       "      <td>2024-11-29 13:21:35.213637901</td>\n",
       "      <td>entry_to_shop</td>\n",
       "      <td>NaN</td>\n",
       "      <td>6186.0</td>\n",
       "    </tr>\n",
       "  </tbody>\n",
       "</table>\n",
       "</div>"
      ],
      "text/plain": [
       "   event_id  session_id  user_id  variation platform  \\\n",
       "0  63527610     6391574   762832          2  Android   \n",
       "1  12446736     6391574   762832          2  Android   \n",
       "2  90232698     6391574   762832          2  Android   \n",
       "3  74183469     9246026   762832          2  Android   \n",
       "4  16360628     9246026   762832          2  Android   \n",
       "\n",
       "                  datetime_event       event_type final_order_status  shop_id  \n",
       "0  2024-11-30 16:23:46.391133804    entry_to_shop         successful   8531.0  \n",
       "1  2024-11-30 16:26:16.875713965       order_paid         successful   8531.0  \n",
       "2  2024-11-30 16:50:44.827088753   order_finished         successful   8531.0  \n",
       "3  2024-11-29 13:21:28.729203894  reload_the_page                NaN   6186.0  \n",
       "4  2024-11-29 13:21:35.213637901    entry_to_shop                NaN   6186.0  "
      ]
     },
     "execution_count": 46,
     "metadata": {},
     "output_type": "execute_result"
    }
   ],
   "source": [
    "#Checking the top 5 values\n",
    "data.head()"
   ]
  },
  {
   "cell_type": "markdown",
   "id": "2488513a",
   "metadata": {},
   "source": [
    "## 2. Checking the Null Values"
   ]
  },
  {
   "cell_type": "code",
   "execution_count": 47,
   "id": "a9285494",
   "metadata": {},
   "outputs": [
    {
     "data": {
      "text/plain": [
       "event_id                   0\n",
       "session_id                 0\n",
       "user_id                    0\n",
       "variation                  0\n",
       "platform                   0\n",
       "datetime_event             0\n",
       "event_type                 0\n",
       "final_order_status    156289\n",
       "shop_id                11079\n",
       "dtype: int64"
      ]
     },
     "execution_count": 47,
     "metadata": {},
     "output_type": "execute_result"
    }
   ],
   "source": [
    "data.isnull().sum()"
   ]
  },
  {
   "cell_type": "code",
   "execution_count": 48,
   "id": "b3d4e805",
   "metadata": {},
   "outputs": [
    {
     "data": {
      "text/plain": [
       "array(['reload_the_page', 'entry_to_shop'], dtype=object)"
      ]
     },
     "execution_count": 48,
     "metadata": {},
     "output_type": "execute_result"
    }
   ],
   "source": [
    "data[data['final_order_status'].isnull()]['event_type'].unique()"
   ]
  },
  {
   "cell_type": "markdown",
   "id": "16121a6c",
   "metadata": {},
   "source": [
    "### The final order status is null for reload_the_page and entry_to_shop indicating that there was no further interaction."
   ]
  },
  {
   "cell_type": "markdown",
   "id": "4e925db2",
   "metadata": {},
   "source": [
    "## 3. Creating a new conversion status column"
   ]
  },
  {
   "cell_type": "code",
   "execution_count": 49,
   "id": "a278a04b",
   "metadata": {},
   "outputs": [],
   "source": [
    "# Creating a new conversion status column, which indicates if order was cancelled or if it had null value then there was no order placed\n",
    "#If it was successful or refunded after delivery it means that order was successfully placed\n",
    "def adjust_conversion_status(row):\n",
    "    if row['final_order_status'] == 'successful':\n",
    "        return 'success'\n",
    "    elif row['final_order_status'] == 'refunded_after_delivery':\n",
    "        return 'success'  # Refund after delivery is still a successful order\n",
    "    elif row['final_order_status'] == 'cancelled':\n",
    "        return 'failure'\n",
    "    elif pd.isna(row['final_order_status']):\n",
    "        return 'failure'  # Or you can treat this as '0' or 'cancelled'\n",
    "    else:\n",
    "        return 'failure'  # For any other unexpected statuses\n",
    "\n",
    "# Apply conversion logic to dataset\n",
    "data['conversion_status'] = data.apply(adjust_conversion_status, axis=1)\n"
   ]
  },
  {
   "cell_type": "code",
   "execution_count": 50,
   "id": "8e46f279",
   "metadata": {},
   "outputs": [],
   "source": [
    "# Separate the dataset into control and test groups based on the variation column\n",
    "control_group = data[data['variation'] == 1]\n",
    "test_group = data[data['variation'] == 2]"
   ]
  },
  {
   "cell_type": "code",
   "execution_count": 51,
   "id": "38e09797",
   "metadata": {},
   "outputs": [],
   "source": [
    "unique_users_per_variation = data.groupby('variation')['user_id'].nunique()"
   ]
  },
  {
   "cell_type": "code",
   "execution_count": 52,
   "id": "52d7c6f3",
   "metadata": {},
   "outputs": [
    {
     "data": {
      "text/plain": [
       "variation\n",
       "1    65000\n",
       "2    35000\n",
       "Name: user_id, dtype: int64"
      ]
     },
     "execution_count": 52,
     "metadata": {},
     "output_type": "execute_result"
    }
   ],
   "source": [
    "#Unique users for control and test group\n",
    "unique_users_per_variation"
   ]
  },
  {
   "cell_type": "code",
   "execution_count": 53,
   "id": "6479a9d3",
   "metadata": {},
   "outputs": [
    {
     "data": {
      "image/png": "[encoded data removed]",
      "text/plain": [
       "<Figure size 800x500 with 1 Axes>"
      ]
     },
     "metadata": {},
     "output_type": "display_data"
    }
   ],
   "source": [
    "import matplotlib.pyplot as plt\n",
    "# Plot\n",
    "plt.figure(figsize=(8, 5))\n",
    "unique_users_per_variation.plot(kind='bar', color=['skyblue', 'lightcoral'])\n",
    "plt.title('Unique Users in Control and Test Groups')\n",
    "plt.xlabel('Variation')\n",
    "plt.ylabel('Unique Users')\n",
    "plt.xticks(rotation=0)  # Make sure the x-axis labels are horizontal\n",
    "plt.show()"
   ]
  },
  {
   "cell_type": "code",
   "execution_count": 54,
   "id": "3e25b19b",
   "metadata": {},
   "outputs": [
    {
     "name": "stdout",
     "output_type": "stream",
     "text": [
      "Control Group Platform Distribution: Android    0.690384\n",
      "iOS        0.309616\n",
      "Name: platform, dtype: float64\n",
      "Test Group Platform Distribution: Android    0.692378\n",
      "iOS        0.307622\n",
      "Name: platform, dtype: float64\n"
     ]
    }
   ],
   "source": [
    "# Check if test/control groups are balanced by platform at user level\n",
    "control_user_platform_dist = control_group['platform'].value_counts(normalize=True)\n",
    "test_user_platform_dist = test_group['platform'].value_counts(normalize=True)\n",
    "\n",
    "print(\"Control Group Platform Distribution:\", control_user_platform_dist)\n",
    "print(\"Test Group Platform Distribution:\", test_user_platform_dist)"
   ]
  },
  {
   "cell_type": "markdown",
   "id": "9a478391",
   "metadata": {},
   "source": [
    "## 4. Grouping the users, if they have any success then success else failure"
   ]
  },
  {
   "cell_type": "code",
   "execution_count": 55,
   "id": "ef7d2bf2",
   "metadata": {},
   "outputs": [],
   "source": [
    "# Group by 'user_id' and determine if a user is successful (any \"success\" in their sessions)\n",
    "def aggregate_user_status(group):\n",
    "    if 'success' in group['conversion_status'].values:\n",
    "        return 'success'  # User is successful if any session is a success\n",
    "    else:\n",
    "        return 'failure'  # User is a failure if no session is a success\n",
    "\n",
    "# Apply the aggregation by user\n",
    "user_conversion_status = data.groupby('user_id').apply(aggregate_user_status).reset_index(name='final_conversion_status')\n",
    "\n",
    "# Merge back the final conversion status with the original data (optional)\n",
    "data = data.merge(user_conversion_status, on='user_id', how='left')\n"
   ]
  },
  {
   "cell_type": "code",
   "execution_count": 56,
   "id": "6d129fb7",
   "metadata": {},
   "outputs": [],
   "source": [
    "# Event-level data for detailed behavioral analysis (non-deduplicated)\n",
    "event_level_data = data  # All rows retained here\n",
    "\n",
    "#Keeping the last entry for the users \n",
    "data = data.drop_duplicates(subset=['user_id'], keep='last')"
   ]
  },
  {
   "cell_type": "markdown",
   "id": "f28bc626",
   "metadata": {},
   "source": [
    "## 5.Checking the conversion rate for both the groups"
   ]
  },
  {
   "cell_type": "code",
   "execution_count": 57,
   "id": "d0788a78",
   "metadata": {},
   "outputs": [
    {
     "name": "stdout",
     "output_type": "stream",
     "text": [
      "Control Group Conversion Rate: 0.38953846153846156\n",
      "Test Group Conversion Rate: 0.3851428571428571\n"
     ]
    }
   ],
   "source": [
    "#Creating the control and test group\n",
    "control_group = data[data['variation'] == 1]\n",
    "test_group = data[data['variation'] == 2]\n",
    "\n",
    "# Count the number of successes in each group\n",
    "control_conversions = control_group[control_group['final_conversion_status'] == 'success'].shape[0]\n",
    "test_conversions = test_group[test_group['final_conversion_status'] == 'success'].shape[0]\n",
    "\n",
    "# Count the total number of users in each group\n",
    "control_group_size = control_group.shape[0]\n",
    "test_group_size = test_group.shape[0]\n",
    "\n",
    "# Calculate conversion rates\n",
    "control_conversion_rate = control_conversions / control_group_size\n",
    "test_conversion_rate = test_conversions / test_group_size\n",
    "\n",
    "print(f\"Control Group Conversion Rate: {control_conversion_rate}\")\n",
    "print(f\"Test Group Conversion Rate: {test_conversion_rate}\")\n"
   ]
  },
  {
   "cell_type": "markdown",
   "id": "7ceda09c",
   "metadata": {},
   "source": [
    "## 6. Calculating the statistical significance for both the groups using Z-Statistics"
   ]
  },
  {
   "cell_type": "code",
   "execution_count": 58,
   "id": "e3e20a06",
   "metadata": {},
   "outputs": [
    {
     "name": "stdout",
     "output_type": "stream",
     "text": [
      "Z-statistic: -1.36056008436951\n",
      "P-value: 0.08682637646247987\n"
     ]
    }
   ],
   "source": [
    "import math\n",
    "from scipy.stats import norm\n",
    "\n",
    "# Calculate the pooled conversion rate (overall success rate)\n",
    "pooled_conversion_rate = (control_conversions + test_conversions) / (control_group_size + test_group_size)\n",
    "\n",
    "# Standard error (SE) for the Z-test\n",
    "se = math.sqrt(pooled_conversion_rate * (1 - pooled_conversion_rate) * (1 / control_group_size + 1 / test_group_size))\n",
    "\n",
    "# Z-statistic\n",
    "z_statistic = (test_conversion_rate - control_conversion_rate) / se\n",
    "\n",
    "# P-value for the Z-test (one-tailed)\n",
    "p_value = norm.cdf(z_statistic)  # For a one-tailed test\n",
    "\n",
    "print(f\"Z-statistic: {z_statistic}\")\n",
    "print(f\"P-value: {p_value}\")\n"
   ]
  },
  {
   "cell_type": "markdown",
   "id": "3ca6f459",
   "metadata": {},
   "source": [
    "## 7. Conversion rate by Platform"
   ]
  },
  {
   "cell_type": "code",
   "execution_count": 59,
   "id": "806e7870",
   "metadata": {},
   "outputs": [
    {
     "name": "stdout",
     "output_type": "stream",
     "text": [
      "Control Group Platform Conversion Rates:\n",
      "conversion_status   failure   success\n",
      "platform                             \n",
      "Android            0.743367  0.256633\n",
      "iOS                0.714980  0.285020\n",
      "Test Group Platform Conversion Rates:\n",
      "conversion_status   failure   success\n",
      "platform                             \n",
      "Android            0.749562  0.250438\n",
      "iOS                0.712018  0.287982\n"
     ]
    }
   ],
   "source": [
    "# Conversion rate by platform in control and test groups\n",
    "control_platform_conversion = control_group.groupby('platform')['conversion_status'].value_counts(normalize=True).unstack()\n",
    "test_platform_conversion = test_group.groupby('platform')['conversion_status'].value_counts(normalize=True).unstack()\n",
    "\n",
    "print(\"Control Group Platform Conversion Rates:\")\n",
    "print(control_platform_conversion)\n",
    "\n",
    "print(\"Test Group Platform Conversion Rates:\")\n",
    "print(test_platform_conversion)\n"
   ]
  },
  {
   "cell_type": "markdown",
   "id": "af0bc974",
   "metadata": {},
   "source": [
    "## 8. Conversion rate by event type"
   ]
  },
  {
   "cell_type": "code",
   "execution_count": 60,
   "id": "25d4342e",
   "metadata": {},
   "outputs": [
    {
     "name": "stdout",
     "output_type": "stream",
     "text": [
      "conversion_status   failure   success\n",
      "event_type                           \n",
      "entry_to_shop      1.000000       NaN\n",
      "order_finished     0.097213  0.902787\n",
      "reload_the_page    1.000000       NaN\n",
      "conversion_status   failure   success\n",
      "event_type                           \n",
      "entry_to_shop      1.000000       NaN\n",
      "order_finished     0.105315  0.894685\n",
      "reload_the_page    1.000000       NaN\n"
     ]
    }
   ],
   "source": [
    "# Analyze conversion rate per event type\n",
    "control_event_conversion = control_group.groupby('event_type')['conversion_status'].value_counts(normalize=True).unstack()\n",
    "test_event_conversion = test_group.groupby('event_type')['conversion_status'].value_counts(normalize=True).unstack()\n",
    "\n",
    "# Compare conversion rates between control and test groups\n",
    "print(control_event_conversion)\n",
    "print(test_event_conversion)\n"
   ]
  },
  {
   "cell_type": "markdown",
   "id": "b76d98e1",
   "metadata": {},
   "source": [
    "## 9. Conversion rate by temporal"
   ]
  },
  {
   "cell_type": "code",
   "execution_count": 61,
   "id": "ba4dea97",
   "metadata": {},
   "outputs": [],
   "source": [
    "# Create time-based features\n",
    "data['datetime_event'] = pd.to_datetime(data['datetime_event'])\n",
    "data['hour'] = data['datetime_event'].dt.hour\n",
    "data['weekday'] = data['datetime_event'].dt.weekday\n",
    "\n",
    "control_group = data[data['variation'] == 1]\n",
    "test_group = data[data['variation'] == 2]\n",
    "\n",
    "\n",
    "# Check conversion rates by hour of the day\n",
    "control_hourly_conversion = control_group.groupby('hour')['conversion_status'].value_counts(normalize=True).unstack()\n",
    "test_hourly_conversion = test_group.groupby('hour')['conversion_status'].value_counts(normalize=True).unstack()\n",
    "\n",
    "# Check conversion rates by day of the week\n",
    "control_weekday_conversion = control_group.groupby('weekday')['conversion_status'].value_counts(normalize=True).unstack()\n",
    "test_weekday_conversion = test_group.groupby('weekday')['conversion_status'].value_counts(normalize=True).unstack()\n"
   ]
  },
  {
   "cell_type": "markdown",
   "id": "c1f6e784",
   "metadata": {},
   "source": [
    "## 10. Temporal Analysis - Weekday"
   ]
  },
  {
   "cell_type": "code",
   "execution_count": 62,
   "id": "7e2bc261",
   "metadata": {},
   "outputs": [
    {
     "data": {
      "text/html": [
       "<div>\n",
       "<style scoped>\n",
       "    .dataframe tbody tr th:only-of-type {\n",
       "        vertical-align: middle;\n",
       "    }\n",
       "\n",
       "    .dataframe tbody tr th {\n",
       "        vertical-align: top;\n",
       "    }\n",
       "\n",
       "    .dataframe thead th {\n",
       "        text-align: right;\n",
       "    }\n",
       "</style>\n",
       "<table border=\"1\" class=\"dataframe\">\n",
       "  <thead>\n",
       "    <tr style=\"text-align: right;\">\n",
       "      <th>conversion_status</th>\n",
       "      <th>failure</th>\n",
       "      <th>success</th>\n",
       "    </tr>\n",
       "    <tr>\n",
       "      <th>weekday</th>\n",
       "      <th></th>\n",
       "      <th></th>\n",
       "    </tr>\n",
       "  </thead>\n",
       "  <tbody>\n",
       "    <tr>\n",
       "      <th>0</th>\n",
       "      <td>0.738814</td>\n",
       "      <td>0.261186</td>\n",
       "    </tr>\n",
       "    <tr>\n",
       "      <th>1</th>\n",
       "      <td>0.735784</td>\n",
       "      <td>0.264216</td>\n",
       "    </tr>\n",
       "    <tr>\n",
       "      <th>2</th>\n",
       "      <td>0.742393</td>\n",
       "      <td>0.257607</td>\n",
       "    </tr>\n",
       "    <tr>\n",
       "      <th>3</th>\n",
       "      <td>0.732653</td>\n",
       "      <td>0.267347</td>\n",
       "    </tr>\n",
       "    <tr>\n",
       "      <th>4</th>\n",
       "      <td>0.735472</td>\n",
       "      <td>0.264528</td>\n",
       "    </tr>\n",
       "    <tr>\n",
       "      <th>5</th>\n",
       "      <td>0.732259</td>\n",
       "      <td>0.267741</td>\n",
       "    </tr>\n",
       "    <tr>\n",
       "      <th>6</th>\n",
       "      <td>0.075949</td>\n",
       "      <td>0.924051</td>\n",
       "    </tr>\n",
       "  </tbody>\n",
       "</table>\n",
       "</div>"
      ],
      "text/plain": [
       "conversion_status   failure   success\n",
       "weekday                              \n",
       "0                  0.738814  0.261186\n",
       "1                  0.735784  0.264216\n",
       "2                  0.742393  0.257607\n",
       "3                  0.732653  0.267347\n",
       "4                  0.735472  0.264528\n",
       "5                  0.732259  0.267741\n",
       "6                  0.075949  0.924051"
      ]
     },
     "execution_count": 62,
     "metadata": {},
     "output_type": "execute_result"
    }
   ],
   "source": [
    "control_weekday_conversion"
   ]
  },
  {
   "cell_type": "code",
   "execution_count": 63,
   "id": "c249a525",
   "metadata": {},
   "outputs": [
    {
     "data": {
      "text/html": [
       "<div>\n",
       "<style scoped>\n",
       "    .dataframe tbody tr th:only-of-type {\n",
       "        vertical-align: middle;\n",
       "    }\n",
       "\n",
       "    .dataframe tbody tr th {\n",
       "        vertical-align: top;\n",
       "    }\n",
       "\n",
       "    .dataframe thead th {\n",
       "        text-align: right;\n",
       "    }\n",
       "</style>\n",
       "<table border=\"1\" class=\"dataframe\">\n",
       "  <thead>\n",
       "    <tr style=\"text-align: right;\">\n",
       "      <th>conversion_status</th>\n",
       "      <th>failure</th>\n",
       "      <th>success</th>\n",
       "    </tr>\n",
       "    <tr>\n",
       "      <th>weekday</th>\n",
       "      <th></th>\n",
       "      <th></th>\n",
       "    </tr>\n",
       "  </thead>\n",
       "  <tbody>\n",
       "    <tr>\n",
       "      <th>0</th>\n",
       "      <td>0.744670</td>\n",
       "      <td>0.255330</td>\n",
       "    </tr>\n",
       "    <tr>\n",
       "      <th>1</th>\n",
       "      <td>0.732193</td>\n",
       "      <td>0.267807</td>\n",
       "    </tr>\n",
       "    <tr>\n",
       "      <th>2</th>\n",
       "      <td>0.738023</td>\n",
       "      <td>0.261977</td>\n",
       "    </tr>\n",
       "    <tr>\n",
       "      <th>3</th>\n",
       "      <td>0.738757</td>\n",
       "      <td>0.261243</td>\n",
       "    </tr>\n",
       "    <tr>\n",
       "      <th>4</th>\n",
       "      <td>0.741280</td>\n",
       "      <td>0.258720</td>\n",
       "    </tr>\n",
       "    <tr>\n",
       "      <th>5</th>\n",
       "      <td>0.737676</td>\n",
       "      <td>0.262324</td>\n",
       "    </tr>\n",
       "    <tr>\n",
       "      <th>6</th>\n",
       "      <td>0.190476</td>\n",
       "      <td>0.809524</td>\n",
       "    </tr>\n",
       "  </tbody>\n",
       "</table>\n",
       "</div>"
      ],
      "text/plain": [
       "conversion_status   failure   success\n",
       "weekday                              \n",
       "0                  0.744670  0.255330\n",
       "1                  0.732193  0.267807\n",
       "2                  0.738023  0.261977\n",
       "3                  0.738757  0.261243\n",
       "4                  0.741280  0.258720\n",
       "5                  0.737676  0.262324\n",
       "6                  0.190476  0.809524"
      ]
     },
     "execution_count": 63,
     "metadata": {},
     "output_type": "execute_result"
    }
   ],
   "source": [
    "test_weekday_conversion"
   ]
  },
  {
   "cell_type": "markdown",
   "id": "e8f6f253",
   "metadata": {},
   "source": [
    "## 11. Temporal Analysis - Hourly"
   ]
  },
  {
   "cell_type": "code",
   "execution_count": 64,
   "id": "93a8ffdc",
   "metadata": {},
   "outputs": [
    {
     "data": {
      "text/html": [
       "<div>\n",
       "<style scoped>\n",
       "    .dataframe tbody tr th:only-of-type {\n",
       "        vertical-align: middle;\n",
       "    }\n",
       "\n",
       "    .dataframe tbody tr th {\n",
       "        vertical-align: top;\n",
       "    }\n",
       "\n",
       "    .dataframe thead th {\n",
       "        text-align: right;\n",
       "    }\n",
       "</style>\n",
       "<table border=\"1\" class=\"dataframe\">\n",
       "  <thead>\n",
       "    <tr style=\"text-align: right;\">\n",
       "      <th>conversion_status</th>\n",
       "      <th>failure</th>\n",
       "      <th>success</th>\n",
       "    </tr>\n",
       "    <tr>\n",
       "      <th>hour</th>\n",
       "      <th></th>\n",
       "      <th></th>\n",
       "    </tr>\n",
       "  </thead>\n",
       "  <tbody>\n",
       "    <tr>\n",
       "      <th>0</th>\n",
       "      <td>0.086860</td>\n",
       "      <td>0.913140</td>\n",
       "    </tr>\n",
       "    <tr>\n",
       "      <th>1</th>\n",
       "      <td>NaN</td>\n",
       "      <td>1.000000</td>\n",
       "    </tr>\n",
       "    <tr>\n",
       "      <th>7</th>\n",
       "      <td>1.000000</td>\n",
       "      <td>NaN</td>\n",
       "    </tr>\n",
       "    <tr>\n",
       "      <th>8</th>\n",
       "      <td>0.900000</td>\n",
       "      <td>0.100000</td>\n",
       "    </tr>\n",
       "    <tr>\n",
       "      <th>9</th>\n",
       "      <td>0.750000</td>\n",
       "      <td>0.250000</td>\n",
       "    </tr>\n",
       "    <tr>\n",
       "      <th>10</th>\n",
       "      <td>0.797297</td>\n",
       "      <td>0.202703</td>\n",
       "    </tr>\n",
       "    <tr>\n",
       "      <th>11</th>\n",
       "      <td>0.854545</td>\n",
       "      <td>0.145455</td>\n",
       "    </tr>\n",
       "    <tr>\n",
       "      <th>12</th>\n",
       "      <td>0.840722</td>\n",
       "      <td>0.159278</td>\n",
       "    </tr>\n",
       "    <tr>\n",
       "      <th>13</th>\n",
       "      <td>0.801444</td>\n",
       "      <td>0.198556</td>\n",
       "    </tr>\n",
       "    <tr>\n",
       "      <th>14</th>\n",
       "      <td>0.802317</td>\n",
       "      <td>0.197683</td>\n",
       "    </tr>\n",
       "    <tr>\n",
       "      <th>15</th>\n",
       "      <td>0.785004</td>\n",
       "      <td>0.214996</td>\n",
       "    </tr>\n",
       "    <tr>\n",
       "      <th>16</th>\n",
       "      <td>0.772740</td>\n",
       "      <td>0.227260</td>\n",
       "    </tr>\n",
       "    <tr>\n",
       "      <th>17</th>\n",
       "      <td>0.758390</td>\n",
       "      <td>0.241610</td>\n",
       "    </tr>\n",
       "    <tr>\n",
       "      <th>18</th>\n",
       "      <td>0.745932</td>\n",
       "      <td>0.254068</td>\n",
       "    </tr>\n",
       "    <tr>\n",
       "      <th>19</th>\n",
       "      <td>0.720678</td>\n",
       "      <td>0.279322</td>\n",
       "    </tr>\n",
       "    <tr>\n",
       "      <th>20</th>\n",
       "      <td>0.692460</td>\n",
       "      <td>0.307540</td>\n",
       "    </tr>\n",
       "    <tr>\n",
       "      <th>21</th>\n",
       "      <td>0.694186</td>\n",
       "      <td>0.305814</td>\n",
       "    </tr>\n",
       "    <tr>\n",
       "      <th>22</th>\n",
       "      <td>0.658930</td>\n",
       "      <td>0.341070</td>\n",
       "    </tr>\n",
       "    <tr>\n",
       "      <th>23</th>\n",
       "      <td>0.731014</td>\n",
       "      <td>0.268986</td>\n",
       "    </tr>\n",
       "  </tbody>\n",
       "</table>\n",
       "</div>"
      ],
      "text/plain": [
       "conversion_status   failure   success\n",
       "hour                                 \n",
       "0                  0.086860  0.913140\n",
       "1                       NaN  1.000000\n",
       "7                  1.000000       NaN\n",
       "8                  0.900000  0.100000\n",
       "9                  0.750000  0.250000\n",
       "10                 0.797297  0.202703\n",
       "11                 0.854545  0.145455\n",
       "12                 0.840722  0.159278\n",
       "13                 0.801444  0.198556\n",
       "14                 0.802317  0.197683\n",
       "15                 0.785004  0.214996\n",
       "16                 0.772740  0.227260\n",
       "17                 0.758390  0.241610\n",
       "18                 0.745932  0.254068\n",
       "19                 0.720678  0.279322\n",
       "20                 0.692460  0.307540\n",
       "21                 0.694186  0.305814\n",
       "22                 0.658930  0.341070\n",
       "23                 0.731014  0.268986"
      ]
     },
     "execution_count": 64,
     "metadata": {},
     "output_type": "execute_result"
    }
   ],
   "source": [
    "control_hourly_conversion"
   ]
  },
  {
   "cell_type": "code",
   "execution_count": 65,
   "id": "c0ad7b2d",
   "metadata": {},
   "outputs": [
    {
     "data": {
      "text/html": [
       "<div>\n",
       "<style scoped>\n",
       "    .dataframe tbody tr th:only-of-type {\n",
       "        vertical-align: middle;\n",
       "    }\n",
       "\n",
       "    .dataframe tbody tr th {\n",
       "        vertical-align: top;\n",
       "    }\n",
       "\n",
       "    .dataframe thead th {\n",
       "        text-align: right;\n",
       "    }\n",
       "</style>\n",
       "<table border=\"1\" class=\"dataframe\">\n",
       "  <thead>\n",
       "    <tr style=\"text-align: right;\">\n",
       "      <th>conversion_status</th>\n",
       "      <th>failure</th>\n",
       "      <th>success</th>\n",
       "    </tr>\n",
       "    <tr>\n",
       "      <th>hour</th>\n",
       "      <th></th>\n",
       "      <th></th>\n",
       "    </tr>\n",
       "  </thead>\n",
       "  <tbody>\n",
       "    <tr>\n",
       "      <th>0</th>\n",
       "      <td>0.153488</td>\n",
       "      <td>0.846512</td>\n",
       "    </tr>\n",
       "    <tr>\n",
       "      <th>1</th>\n",
       "      <td>0.166667</td>\n",
       "      <td>0.833333</td>\n",
       "    </tr>\n",
       "    <tr>\n",
       "      <th>2</th>\n",
       "      <td>NaN</td>\n",
       "      <td>1.000000</td>\n",
       "    </tr>\n",
       "    <tr>\n",
       "      <th>7</th>\n",
       "      <td>NaN</td>\n",
       "      <td>1.000000</td>\n",
       "    </tr>\n",
       "    <tr>\n",
       "      <th>8</th>\n",
       "      <td>1.000000</td>\n",
       "      <td>NaN</td>\n",
       "    </tr>\n",
       "    <tr>\n",
       "      <th>9</th>\n",
       "      <td>0.750000</td>\n",
       "      <td>0.250000</td>\n",
       "    </tr>\n",
       "    <tr>\n",
       "      <th>10</th>\n",
       "      <td>0.795455</td>\n",
       "      <td>0.204545</td>\n",
       "    </tr>\n",
       "    <tr>\n",
       "      <th>11</th>\n",
       "      <td>0.798246</td>\n",
       "      <td>0.201754</td>\n",
       "    </tr>\n",
       "    <tr>\n",
       "      <th>12</th>\n",
       "      <td>0.815562</td>\n",
       "      <td>0.184438</td>\n",
       "    </tr>\n",
       "    <tr>\n",
       "      <th>13</th>\n",
       "      <td>0.815990</td>\n",
       "      <td>0.184010</td>\n",
       "    </tr>\n",
       "    <tr>\n",
       "      <th>14</th>\n",
       "      <td>0.798216</td>\n",
       "      <td>0.201784</td>\n",
       "    </tr>\n",
       "    <tr>\n",
       "      <th>15</th>\n",
       "      <td>0.781706</td>\n",
       "      <td>0.218294</td>\n",
       "    </tr>\n",
       "    <tr>\n",
       "      <th>16</th>\n",
       "      <td>0.771015</td>\n",
       "      <td>0.228985</td>\n",
       "    </tr>\n",
       "    <tr>\n",
       "      <th>17</th>\n",
       "      <td>0.754988</td>\n",
       "      <td>0.245012</td>\n",
       "    </tr>\n",
       "    <tr>\n",
       "      <th>18</th>\n",
       "      <td>0.746744</td>\n",
       "      <td>0.253256</td>\n",
       "    </tr>\n",
       "    <tr>\n",
       "      <th>19</th>\n",
       "      <td>0.724596</td>\n",
       "      <td>0.275404</td>\n",
       "    </tr>\n",
       "    <tr>\n",
       "      <th>20</th>\n",
       "      <td>0.703749</td>\n",
       "      <td>0.296251</td>\n",
       "    </tr>\n",
       "    <tr>\n",
       "      <th>21</th>\n",
       "      <td>0.694277</td>\n",
       "      <td>0.305723</td>\n",
       "    </tr>\n",
       "    <tr>\n",
       "      <th>22</th>\n",
       "      <td>0.685732</td>\n",
       "      <td>0.314268</td>\n",
       "    </tr>\n",
       "    <tr>\n",
       "      <th>23</th>\n",
       "      <td>0.732578</td>\n",
       "      <td>0.267422</td>\n",
       "    </tr>\n",
       "  </tbody>\n",
       "</table>\n",
       "</div>"
      ],
      "text/plain": [
       "conversion_status   failure   success\n",
       "hour                                 \n",
       "0                  0.153488  0.846512\n",
       "1                  0.166667  0.833333\n",
       "2                       NaN  1.000000\n",
       "7                       NaN  1.000000\n",
       "8                  1.000000       NaN\n",
       "9                  0.750000  0.250000\n",
       "10                 0.795455  0.204545\n",
       "11                 0.798246  0.201754\n",
       "12                 0.815562  0.184438\n",
       "13                 0.815990  0.184010\n",
       "14                 0.798216  0.201784\n",
       "15                 0.781706  0.218294\n",
       "16                 0.771015  0.228985\n",
       "17                 0.754988  0.245012\n",
       "18                 0.746744  0.253256\n",
       "19                 0.724596  0.275404\n",
       "20                 0.703749  0.296251\n",
       "21                 0.694277  0.305723\n",
       "22                 0.685732  0.314268\n",
       "23                 0.732578  0.267422"
      ]
     },
     "execution_count": 65,
     "metadata": {},
     "output_type": "execute_result"
    }
   ],
   "source": [
    "test_hourly_conversion"
   ]
  },
  {
   "cell_type": "markdown",
   "id": "67003451",
   "metadata": {},
   "source": [
    "## Acknowledgments\n",
    "\n",
    "Some portions of the code in this notebook were generated using OpenAI's ChatGPT, an AI language model. While ChatGPT assists in code generation, the author has reviewed and validated all AI-generated code to ensure its accuracy and relevance to this project."
   ]
  }
 ],
 "metadata": {
  "kernelspec": {
   "display_name": "Python 3 (ipykernel)",
   "language": "python",
   "name": "python3"
  },
  "language_info": {
   "codemirror_mode": {
    "name": "ipython",
    "version": 3
   },
   "file_extension": ".py",
   "mimetype": "text/x-python",
   "name": "python",
   "nbconvert_exporter": "python",
   "pygments_lexer": "ipython3",
   "version": "3.9.13"
  }
 },
 "nbformat": 4,
 "nbformat_minor": 5
}
